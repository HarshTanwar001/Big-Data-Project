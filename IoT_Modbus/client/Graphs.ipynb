{
 "cells": [
  {
   "cell_type": "code",
   "execution_count": 4,
   "metadata": {},
   "outputs": [],
   "source": [
    "import pandas as pd\n",
    "import numpy as np\n",
    "import plotly.graph_objects as go"
   ]
  },
  {
   "cell_type": "code",
   "execution_count": 5,
   "metadata": {},
   "outputs": [
    {
     "data": {
      "text/html": [
       "<div>\n",
       "<style scoped>\n",
       "    .dataframe tbody tr th:only-of-type {\n",
       "        vertical-align: middle;\n",
       "    }\n",
       "\n",
       "    .dataframe tbody tr th {\n",
       "        vertical-align: top;\n",
       "    }\n",
       "\n",
       "    .dataframe thead th {\n",
       "        text-align: right;\n",
       "    }\n",
       "</style>\n",
       "<table border=\"1\" class=\"dataframe\">\n",
       "  <thead>\n",
       "    <tr style=\"text-align: right;\">\n",
       "      <th></th>\n",
       "      <th>model_version</th>\n",
       "      <th>accuracy</th>\n",
       "      <th>precision</th>\n",
       "      <th>recall</th>\n",
       "      <th>f1_score_value</th>\n",
       "      <th>time_consumed</th>\n",
       "    </tr>\n",
       "  </thead>\n",
       "  <tbody>\n",
       "    <tr>\n",
       "      <th>0</th>\n",
       "      <td>v1</td>\n",
       "      <td>0.96875</td>\n",
       "      <td>0.970052</td>\n",
       "      <td>0.96875</td>\n",
       "      <td>0.968163</td>\n",
       "      <td>0.211434</td>\n",
       "    </tr>\n",
       "    <tr>\n",
       "      <th>1</th>\n",
       "      <td>v2</td>\n",
       "      <td>0.62500</td>\n",
       "      <td>0.625000</td>\n",
       "      <td>1.00000</td>\n",
       "      <td>0.769231</td>\n",
       "      <td>0.315160</td>\n",
       "    </tr>\n",
       "    <tr>\n",
       "      <th>2</th>\n",
       "      <td>v3</td>\n",
       "      <td>0.90625</td>\n",
       "      <td>0.915323</td>\n",
       "      <td>0.90625</td>\n",
       "      <td>0.880508</td>\n",
       "      <td>0.430327</td>\n",
       "    </tr>\n",
       "    <tr>\n",
       "      <th>3</th>\n",
       "      <td>v4</td>\n",
       "      <td>0.68750</td>\n",
       "      <td>0.687500</td>\n",
       "      <td>1.00000</td>\n",
       "      <td>0.814815</td>\n",
       "      <td>0.524597</td>\n",
       "    </tr>\n",
       "    <tr>\n",
       "      <th>4</th>\n",
       "      <td>v5</td>\n",
       "      <td>0.87500</td>\n",
       "      <td>0.875000</td>\n",
       "      <td>1.00000</td>\n",
       "      <td>0.933333</td>\n",
       "      <td>0.668611</td>\n",
       "    </tr>\n",
       "  </tbody>\n",
       "</table>\n",
       "</div>"
      ],
      "text/plain": [
       "  model_version  accuracy  precision   recall  f1_score_value  time_consumed\n",
       "0            v1   0.96875   0.970052  0.96875        0.968163       0.211434\n",
       "1            v2   0.62500   0.625000  1.00000        0.769231       0.315160\n",
       "2            v3   0.90625   0.915323  0.90625        0.880508       0.430327\n",
       "3            v4   0.68750   0.687500  1.00000        0.814815       0.524597\n",
       "4            v5   0.87500   0.875000  1.00000        0.933333       0.668611"
      ]
     },
     "execution_count": 5,
     "metadata": {},
     "output_type": "execute_result"
    }
   ],
   "source": [
    "data = pd.read_csv(\"ensemble.csv\")\n",
    "data.head()"
   ]
  },
  {
   "cell_type": "code",
   "execution_count": 6,
   "metadata": {},
   "outputs": [
    {
     "data": {
      "application/vnd.jupyter.widget-view+json": {
       "model_id": "39afafa0406143a1b618805695e439a4",
       "version_major": 2,
       "version_minor": 0
      },
      "text/plain": [
       "FigureWidget({\n",
       "    'data': [{'line': {'width': 1.5},\n",
       "              'mode': 'lines',\n",
       "              'name': 'Acc…"
      ]
     },
     "metadata": {},
     "output_type": "display_data"
    }
   ],
   "source": [
    "fig1 = go.FigureWidget()\n",
    "fig1.add_scatter(x=np.array(list(data['model_version'])), y=data['accuracy'],\n",
    "                            mode='lines',\n",
    "                            name='Accuracy', line=dict(width=1.5))\n",
    "                    \n",
    "fig1.add_scatter(x=np.array(list(data['model_version'])), y=data['precision'],\n",
    "                            mode='lines',\n",
    "                            name='Precision', line=dict(width=1.5))\n",
    "\n",
    "fig1.add_scatter(x=np.array(list(data['model_version'])), y=data['recall'],\n",
    "                            mode='lines',\n",
    "                            name='Recall', line=dict(width=1.5))\n",
    "\n",
    "fig1.add_scatter(x=np.array(list(data['model_version'])), y=data['f1_score_value'],\n",
    "                            mode='lines',\n",
    "                            name='F1_score', line=dict(width=1.5))\n",
    "\n",
    "display(fig1)"
   ]
  },
  {
   "cell_type": "code",
   "execution_count": 7,
   "metadata": {},
   "outputs": [
    {
     "data": {
      "application/vnd.jupyter.widget-view+json": {
       "model_id": "02db83456e8b48d5b2c4a39b0d944642",
       "version_major": 2,
       "version_minor": 0
      },
      "text/plain": [
       "FigureWidget({\n",
       "    'data': [{'line': {'width': 1.5},\n",
       "              'mode': 'lines',\n",
       "              'name': 'Tim…"
      ]
     },
     "metadata": {},
     "output_type": "display_data"
    }
   ],
   "source": [
    "fig2 = go.FigureWidget()\n",
    "fig2.add_scatter(x=np.array(list(data['model_version'])), y=data['time_consumed'],\n",
    "                            mode='lines',\n",
    "                            name='Time_consumed', line=dict(width=1.5))\n",
    "\n",
    "display(fig2)"
   ]
  }
 ],
 "metadata": {
  "interpreter": {
   "hash": "e8899eb02dfbc033aab5733bdae1bd213fa031d40331094008e8673d99ebab63"
  },
  "kernelspec": {
   "display_name": "Python 3.10.1 64-bit",
   "language": "python",
   "name": "python3"
  },
  "language_info": {
   "codemirror_mode": {
    "name": "ipython",
    "version": 3
   },
   "file_extension": ".py",
   "mimetype": "text/x-python",
   "name": "python",
   "nbconvert_exporter": "python",
   "pygments_lexer": "ipython3",
   "version": "3.10.1"
  },
  "orig_nbformat": 4
 },
 "nbformat": 4,
 "nbformat_minor": 2
}
