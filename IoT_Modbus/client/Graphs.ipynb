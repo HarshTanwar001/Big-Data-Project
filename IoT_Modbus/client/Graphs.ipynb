{
 "cells": [
  {
   "cell_type": "code",
   "execution_count": 1,
   "metadata": {},
   "outputs": [],
   "source": [
    "import pandas as pd\n",
    "import numpy as np\n",
    "import plotly.graph_objects as go"
   ]
  },
  {
   "cell_type": "code",
   "execution_count": 2,
   "metadata": {},
   "outputs": [
    {
     "data": {
      "text/html": [
       "<div>\n",
       "<style scoped>\n",
       "    .dataframe tbody tr th:only-of-type {\n",
       "        vertical-align: middle;\n",
       "    }\n",
       "\n",
       "    .dataframe tbody tr th {\n",
       "        vertical-align: top;\n",
       "    }\n",
       "\n",
       "    .dataframe thead th {\n",
       "        text-align: right;\n",
       "    }\n",
       "</style>\n",
       "<table border=\"1\" class=\"dataframe\">\n",
       "  <thead>\n",
       "    <tr style=\"text-align: right;\">\n",
       "      <th></th>\n",
       "      <th>model_version</th>\n",
       "      <th>accuracy</th>\n",
       "      <th>precision</th>\n",
       "      <th>recall</th>\n",
       "      <th>f1_score_value</th>\n",
       "      <th>time_consumed</th>\n",
       "    </tr>\n",
       "  </thead>\n",
       "  <tbody>\n",
       "    <tr>\n",
       "      <th>0</th>\n",
       "      <td>v1</td>\n",
       "      <td>0.96875</td>\n",
       "      <td>0.970052</td>\n",
       "      <td>0.96875</td>\n",
       "      <td>0.968163</td>\n",
       "      <td>0.211434</td>\n",
       "    </tr>\n",
       "    <tr>\n",
       "      <th>1</th>\n",
       "      <td>v2</td>\n",
       "      <td>0.62500</td>\n",
       "      <td>0.625000</td>\n",
       "      <td>1.00000</td>\n",
       "      <td>0.769231</td>\n",
       "      <td>0.315160</td>\n",
       "    </tr>\n",
       "    <tr>\n",
       "      <th>2</th>\n",
       "      <td>v3</td>\n",
       "      <td>0.90625</td>\n",
       "      <td>0.915323</td>\n",
       "      <td>0.90625</td>\n",
       "      <td>0.880508</td>\n",
       "      <td>0.430327</td>\n",
       "    </tr>\n",
       "    <tr>\n",
       "      <th>3</th>\n",
       "      <td>v4</td>\n",
       "      <td>0.68750</td>\n",
       "      <td>0.687500</td>\n",
       "      <td>1.00000</td>\n",
       "      <td>0.814815</td>\n",
       "      <td>0.524597</td>\n",
       "    </tr>\n",
       "    <tr>\n",
       "      <th>4</th>\n",
       "      <td>v5</td>\n",
       "      <td>0.87500</td>\n",
       "      <td>0.875000</td>\n",
       "      <td>1.00000</td>\n",
       "      <td>0.933333</td>\n",
       "      <td>0.668611</td>\n",
       "    </tr>\n",
       "  </tbody>\n",
       "</table>\n",
       "</div>"
      ],
      "text/plain": [
       "  model_version  accuracy  precision   recall  f1_score_value  time_consumed\n",
       "0            v1   0.96875   0.970052  0.96875        0.968163       0.211434\n",
       "1            v2   0.62500   0.625000  1.00000        0.769231       0.315160\n",
       "2            v3   0.90625   0.915323  0.90625        0.880508       0.430327\n",
       "3            v4   0.68750   0.687500  1.00000        0.814815       0.524597\n",
       "4            v5   0.87500   0.875000  1.00000        0.933333       0.668611"
      ]
     },
     "execution_count": 2,
     "metadata": {},
     "output_type": "execute_result"
    }
   ],
   "source": [
    "data = pd.read_csv(\"ensemble.csv\")\n",
    "data.head()"
   ]
  },
  {
   "cell_type": "code",
   "execution_count": 8,
   "metadata": {},
   "outputs": [
    {
     "data": {
      "application/vnd.jupyter.widget-view+json": {
       "model_id": "c43d3213ac2944bf87d912a33960d4f0",
       "version_major": 2,
       "version_minor": 0
      },
      "text/plain": [
       "FigureWidget({\n",
       "    'data': [{'line': {'width': 1.5},\n",
       "              'mode': 'lines',\n",
       "              'name': 'Acc…"
      ]
     },
     "metadata": {},
     "output_type": "display_data"
    }
   ],
   "source": [
    "fig1 = go.FigureWidget()\n",
    "fig1.add_scatter(x=np.array(list(data['model_version'])), y=data['accuracy'],\n",
    "                            mode='lines',\n",
    "                            name='Accuracy', line=dict(width=1.5))\n",
    "                    \n",
    "fig1.add_scatter(x=np.array(list(data['model_version'])), y=data['precision'],\n",
    "                            mode='lines',\n",
    "                            name='Precision', line=dict(width=1.5))\n",
    "\n",
    "fig1.add_scatter(x=np.array(list(data['model_version'])), y=data['recall'],\n",
    "                            mode='lines',\n",
    "                            name='Recall', line=dict(width=1.5))\n",
    "\n",
    "fig1.add_scatter(x=np.array(list(data['model_version'])), y=data['f1_score_value'],\n",
    "                            mode='lines',\n",
    "                            name='F1_score', line=dict(width=1.5))\n",
    "fig1.update_layout(title_text='Accuracy, Precision, Recall and F1 Score for each model', xaxis_title=\"Models\", yaxis_title=\"Values\")\n",
    "display(fig1)"
   ]
  },
  {
   "cell_type": "code",
   "execution_count": 10,
   "metadata": {},
   "outputs": [
    {
     "data": {
      "application/vnd.jupyter.widget-view+json": {
       "model_id": "604281fca99445f2818306f8859c2628",
       "version_major": 2,
       "version_minor": 0
      },
      "text/plain": [
       "FigureWidget({\n",
       "    'data': [{'line': {'width': 1.5},\n",
       "              'mode': 'lines',\n",
       "              'name': 'Tim…"
      ]
     },
     "metadata": {},
     "output_type": "display_data"
    }
   ],
   "source": [
    "fig2 = go.FigureWidget()\n",
    "fig2.add_scatter(x=np.array(list(data['model_version'])), y=data['time_consumed'],\n",
    "                            mode='lines',\n",
    "                            name='Time_consumed', line=dict(width=1.5))\n",
    "\n",
    "fig2.update_layout(title_text='Training time of each model', xaxis_title=\"Models\", yaxis_title=\"Time taken (in sec)\")\n",
    "display(fig2)"
   ]
  },
  {
   "cell_type": "code",
   "execution_count": 11,
   "metadata": {},
   "outputs": [
    {
     "data": {
      "application/vnd.jupyter.widget-view+json": {
       "model_id": "c52474f974824fcda87bdaa4434a4346",
       "version_major": 2,
       "version_minor": 0
      },
      "text/plain": [
       "FigureWidget({\n",
       "    'data': [{'line': {'width': 1.5},\n",
       "              'mode': 'lines',\n",
       "              'name': 'Acc…"
      ]
     },
     "metadata": {},
     "output_type": "display_data"
    }
   ],
   "source": [
    "fig3 = go.FigureWidget()\n",
    "fig3.add_scatter(x=np.array(list(data['model_version'])), y=data['accuracy'],\n",
    "                            mode='lines',\n",
    "                            name='Accuracy', line=dict(width=1.5))\n",
    "\n",
    "fig3.update_layout(title_text='Accuracy of each model', xaxis_title=\"Models\", yaxis_title=\"Value\")\n",
    "display(fig3)"
   ]
  },
  {
   "cell_type": "code",
   "execution_count": 19,
   "metadata": {},
   "outputs": [
    {
     "data": {
      "application/vnd.jupyter.widget-view+json": {
       "model_id": "a9017c36b5b8410bab985fcdd3990f04",
       "version_major": 2,
       "version_minor": 0
      },
      "text/plain": [
       "FigureWidget({\n",
       "    'data': [{'line': {'width': 1.5},\n",
       "              'mode': 'lines',\n",
       "              'name': 'Pre…"
      ]
     },
     "metadata": {},
     "output_type": "display_data"
    }
   ],
   "source": [
    "fig4 = go.FigureWidget()\n",
    "fig4.add_scatter(x=np.array(list(data['model_version'])), y=data['precision'],\n",
    "                            mode='lines', \n",
    "                            name='Precision', line=dict(width=1.5))\n",
    "\n",
    "fig4.update_layout(title_text='Precision of each model', xaxis_title=\"Models\", yaxis_title=\"Value\")\n",
    "display(fig4)"
   ]
  },
  {
   "cell_type": "code",
   "execution_count": 33,
   "metadata": {},
   "outputs": [
    {
     "data": {
      "application/vnd.jupyter.widget-view+json": {
       "model_id": "0d6cab47626f4a668f8a40c85088e343",
       "version_major": 2,
       "version_minor": 0
      },
      "text/plain": [
       "FigureWidget({\n",
       "    'data': [{'line': {'width': 1.5},\n",
       "              'mode': 'lines',\n",
       "              'name': 'Rec…"
      ]
     },
     "metadata": {},
     "output_type": "display_data"
    }
   ],
   "source": [
    "fig5 = go.FigureWidget()\n",
    "fig5.add_scatter(x=np.array(list(data['model_version'])), y=data['recall'],\n",
    "                            mode='lines',\n",
    "                            name='Recall', line=dict(width=1.5))\n",
    "\n",
    "fig5.update_layout(title_text='Recall value of each model', xaxis_title=\"Models\", yaxis_title=\"Value\")\n",
    "display(fig5)"
   ]
  },
  {
   "cell_type": "code",
   "execution_count": 14,
   "metadata": {},
   "outputs": [
    {
     "data": {
      "application/vnd.jupyter.widget-view+json": {
       "model_id": "327d075853cc43be8a22d06190401e6b",
       "version_major": 2,
       "version_minor": 0
      },
      "text/plain": [
       "FigureWidget({\n",
       "    'data': [{'line': {'width': 1.6},\n",
       "              'mode': 'lines',\n",
       "              'name': 'F1_…"
      ]
     },
     "metadata": {},
     "output_type": "display_data"
    }
   ],
   "source": [
    "fig6 = go.FigureWidget()\n",
    "fig6.add_scatter(x=np.array(list(data['model_version'])), y=data['f1_score_value'],\n",
    "                            mode='lines',\n",
    "                            name='F1_score', line=dict(width=1.6))\n",
    "\n",
    "fig6.update_layout(title_text='F1 score of each model', xaxis_title=\"Models\", yaxis_title=\"Value\")\n",
    "display(fig6)"
   ]
  }
 ],
 "metadata": {
  "interpreter": {
   "hash": "e8899eb02dfbc033aab5733bdae1bd213fa031d40331094008e8673d99ebab63"
  },
  "kernelspec": {
   "display_name": "Python 3.10.1 64-bit",
   "language": "python",
   "name": "python3"
  },
  "language_info": {
   "codemirror_mode": {
    "name": "ipython",
    "version": 3
   },
   "file_extension": ".py",
   "mimetype": "text/x-python",
   "name": "python",
   "nbconvert_exporter": "python",
   "pygments_lexer": "ipython3",
   "version": "3.10.1"
  },
  "orig_nbformat": 4
 },
 "nbformat": 4,
 "nbformat_minor": 2
}
