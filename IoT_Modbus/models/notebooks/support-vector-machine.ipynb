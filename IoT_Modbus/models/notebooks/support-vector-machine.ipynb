{
 "cells": [
  {
   "cell_type": "code",
   "execution_count": 1,
   "metadata": {},
   "outputs": [],
   "source": [
    "import pandas as pd\n",
    "import numpy as np\n",
    "from sklearn.preprocessing import LabelEncoder\n",
    "from sklearn.model_selection import train_test_split\n",
    "from sklearn.svm import SVC\n",
    "from sklearn.metrics import classification_report, accuracy_score, f1_score, precision_score, recall_score\n",
    "from time import time\n",
    "import pickle"
   ]
  },
  {
   "cell_type": "code",
   "execution_count": 2,
   "metadata": {},
   "outputs": [
    {
     "data": {
      "text/html": [
       "<div>\n",
       "<style scoped>\n",
       "    .dataframe tbody tr th:only-of-type {\n",
       "        vertical-align: middle;\n",
       "    }\n",
       "\n",
       "    .dataframe tbody tr th {\n",
       "        vertical-align: top;\n",
       "    }\n",
       "\n",
       "    .dataframe thead th {\n",
       "        text-align: right;\n",
       "    }\n",
       "</style>\n",
       "<table border=\"1\" class=\"dataframe\">\n",
       "  <thead>\n",
       "    <tr style=\"text-align: right;\">\n",
       "      <th></th>\n",
       "      <th>date</th>\n",
       "      <th>time</th>\n",
       "      <th>FC1_Read_Input_Register</th>\n",
       "      <th>FC2_Read_Discrete_Value</th>\n",
       "      <th>FC3_Read_Holding_Register</th>\n",
       "      <th>FC4_Read_Coil</th>\n",
       "      <th>label</th>\n",
       "      <th>type</th>\n",
       "    </tr>\n",
       "  </thead>\n",
       "  <tbody>\n",
       "    <tr>\n",
       "      <th>0</th>\n",
       "      <td>31-Mar-19</td>\n",
       "      <td>12:36:55</td>\n",
       "      <td>53287</td>\n",
       "      <td>1463</td>\n",
       "      <td>33518</td>\n",
       "      <td>23014</td>\n",
       "      <td>0</td>\n",
       "      <td>2</td>\n",
       "    </tr>\n",
       "    <tr>\n",
       "      <th>1</th>\n",
       "      <td>31-Mar-19</td>\n",
       "      <td>12:36:58</td>\n",
       "      <td>41029</td>\n",
       "      <td>55891</td>\n",
       "      <td>26004</td>\n",
       "      <td>50645</td>\n",
       "      <td>0</td>\n",
       "      <td>2</td>\n",
       "    </tr>\n",
       "    <tr>\n",
       "      <th>2</th>\n",
       "      <td>31-Mar-19</td>\n",
       "      <td>12:36:58</td>\n",
       "      <td>41029</td>\n",
       "      <td>55891</td>\n",
       "      <td>26004</td>\n",
       "      <td>50645</td>\n",
       "      <td>0</td>\n",
       "      <td>2</td>\n",
       "    </tr>\n",
       "    <tr>\n",
       "      <th>3</th>\n",
       "      <td>31-Mar-19</td>\n",
       "      <td>12:37:00</td>\n",
       "      <td>64661</td>\n",
       "      <td>40232</td>\n",
       "      <td>33460</td>\n",
       "      <td>44046</td>\n",
       "      <td>0</td>\n",
       "      <td>2</td>\n",
       "    </tr>\n",
       "    <tr>\n",
       "      <th>4</th>\n",
       "      <td>31-Mar-19</td>\n",
       "      <td>12:37:01</td>\n",
       "      <td>64661</td>\n",
       "      <td>40232</td>\n",
       "      <td>33460</td>\n",
       "      <td>44046</td>\n",
       "      <td>0</td>\n",
       "      <td>2</td>\n",
       "    </tr>\n",
       "  </tbody>\n",
       "</table>\n",
       "</div>"
      ],
      "text/plain": [
       "        date      time  FC1_Read_Input_Register  FC2_Read_Discrete_Value  \\\n",
       "0  31-Mar-19  12:36:55                    53287                     1463   \n",
       "1  31-Mar-19  12:36:58                    41029                    55891   \n",
       "2  31-Mar-19  12:36:58                    41029                    55891   \n",
       "3  31-Mar-19  12:37:00                    64661                    40232   \n",
       "4  31-Mar-19  12:37:01                    64661                    40232   \n",
       "\n",
       "   FC3_Read_Holding_Register  FC4_Read_Coil  label  type  \n",
       "0                      33518          23014      0     2  \n",
       "1                      26004          50645      0     2  \n",
       "2                      26004          50645      0     2  \n",
       "3                      33460          44046      0     2  \n",
       "4                      33460          44046      0     2  "
      ]
     },
     "execution_count": 2,
     "metadata": {},
     "output_type": "execute_result"
    }
   ],
   "source": [
    "IoT = pd.read_csv('../../data/IoT_Modbus.csv')\n",
    "# IoT = IoT.iloc[0:104451]\n",
    "\n",
    "IoT = IoT.dropna()\n",
    "\n",
    "encoder = LabelEncoder()\n",
    "IoT['type'] = encoder.fit_transform(IoT['type'])\n",
    "\n",
    "IoT.head()"
   ]
  },
  {
   "cell_type": "code",
   "execution_count": 3,
   "metadata": {},
   "outputs": [],
   "source": [
    "x = IoT.drop(['type', 'label', 'date', 'time'], axis=1)\n",
    "y = IoT['type']\n",
    "\n",
    "features = len(x.columns)\n",
    "\n",
    "x_train, x_test, y_train, y_test = train_test_split(x, y, test_size=0.2)"
   ]
  },
  {
   "cell_type": "code",
   "execution_count": 4,
   "metadata": {},
   "outputs": [],
   "source": [
    "model8 = SVC()"
   ]
  },
  {
   "cell_type": "code",
   "execution_count": 5,
   "metadata": {},
   "outputs": [],
   "source": [
    "filename = '../h5s/support-vector-machine.h5'\n",
    "pickle.dump(model8, open(filename, 'wb'))"
   ]
  },
  {
   "cell_type": "code",
   "execution_count": 6,
   "metadata": {},
   "outputs": [],
   "source": [
    "start = time()\n",
    "model8.fit(x_train, y_train)\n",
    "training_time = time() - start"
   ]
  },
  {
   "cell_type": "code",
   "execution_count": 7,
   "metadata": {},
   "outputs": [
    {
     "data": {
      "text/plain": [
       "array([2, 2, 2, ..., 2, 2, 2])"
      ]
     },
     "execution_count": 7,
     "metadata": {},
     "output_type": "execute_result"
    }
   ],
   "source": [
    "start = time()\n",
    "y_pred = model8.predict(x_test)\n",
    "test_time = time() - start\n",
    "y_pred"
   ]
  },
  {
   "cell_type": "code",
   "execution_count": 8,
   "metadata": {},
   "outputs": [
    {
     "name": "stdout",
     "output_type": "stream",
     "text": [
      "Accuracy: 0.7772767631748464\n",
      "Precision: 0.7772767631748464\n",
      "Recall: 1.0\n",
      "F1_Score: 0.874682862320615\n",
      "Training Time: 3161.8607609272003s\n",
      "Testing Time: 652.4758689403534s\n",
      "              precision    recall  f1-score   support\n",
      "\n",
      "           0       0.00      0.00      0.00      8036\n",
      "           1       0.00      0.00      0.00      1018\n",
      "           2       0.78      1.00      0.87     44646\n",
      "           3       0.00      0.00      0.00      3549\n",
      "           4       0.00      0.00      0.00        90\n",
      "           5       0.00      0.00      0.00       100\n",
      "\n",
      "    accuracy                           0.78     57439\n",
      "   macro avg       0.13      0.17      0.15     57439\n",
      "weighted avg       0.60      0.78      0.68     57439\n",
      "\n"
     ]
    },
    {
     "name": "stderr",
     "output_type": "stream",
     "text": [
      "c:\\Users\\harsh\\AppData\\Local\\Programs\\Python\\Python310\\lib\\site-packages\\sklearn\\metrics\\_classification.py:1327: UndefinedMetricWarning: Precision and F-score are ill-defined and being set to 0.0 in labels with no predicted samples. Use `zero_division` parameter to control this behavior.\n",
      "  _warn_prf(average, modifier, msg_start, len(result))\n",
      "c:\\Users\\harsh\\AppData\\Local\\Programs\\Python\\Python310\\lib\\site-packages\\sklearn\\metrics\\_classification.py:1327: UndefinedMetricWarning: Precision and F-score are ill-defined and being set to 0.0 in labels with no predicted samples. Use `zero_division` parameter to control this behavior.\n",
      "  _warn_prf(average, modifier, msg_start, len(result))\n",
      "c:\\Users\\harsh\\AppData\\Local\\Programs\\Python\\Python310\\lib\\site-packages\\sklearn\\metrics\\_classification.py:1327: UndefinedMetricWarning: Precision and F-score are ill-defined and being set to 0.0 in labels with no predicted samples. Use `zero_division` parameter to control this behavior.\n",
      "  _warn_prf(average, modifier, msg_start, len(result))\n"
     ]
    }
   ],
   "source": [
    "# accuracy = model8.score(x_test, y_test)\n",
    "# print('Test accuracy:', accuracy)\n",
    "\n",
    "accuracy = accuracy_score(y_test, y_pred)\n",
    "precision = precision_score(y_test, y_pred, average='weighted', labels=np.unique(y_pred))\n",
    "recall = recall_score(y_test, y_pred, average='weighted', labels=np.unique(y_pred))\n",
    "f1 = f1_score(y_test, y_pred, average='weighted', labels=np.unique(y_pred))\n",
    "\n",
    "print('Accuracy:', accuracy)\n",
    "print('Precision:', precision)\n",
    "print('Recall:', recall)\n",
    "print('F1_Score:', f1)\n",
    "print(f'Training Time: {training_time}s')\n",
    "print(f'Testing Time: {test_time}s')\n",
    "print(classification_report(y_test, y_pred))"
   ]
  }
 ],
 "metadata": {
  "interpreter": {
   "hash": "e8899eb02dfbc033aab5733bdae1bd213fa031d40331094008e8673d99ebab63"
  },
  "kernelspec": {
   "display_name": "Python 3.10.1 64-bit",
   "language": "python",
   "name": "python3"
  },
  "language_info": {
   "codemirror_mode": {
    "name": "ipython",
    "version": 3
   },
   "file_extension": ".py",
   "mimetype": "text/x-python",
   "name": "python",
   "nbconvert_exporter": "python",
   "pygments_lexer": "ipython3",
   "version": "3.10.1"
  },
  "orig_nbformat": 4
 },
 "nbformat": 4,
 "nbformat_minor": 2
}
