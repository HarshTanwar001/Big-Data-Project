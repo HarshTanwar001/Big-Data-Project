{
 "cells": [
  {
   "cell_type": "code",
   "execution_count": 1,
   "metadata": {},
   "outputs": [],
   "source": [
    "import pandas as pd\n",
    "import numpy as np\n",
    "from sklearn.preprocessing import LabelEncoder\n",
    "from sklearn.model_selection import train_test_split\n",
    "from sklearn.linear_model import LogisticRegression\n",
    "from sklearn.metrics import classification_report, accuracy_score, f1_score, precision_score, recall_score, confusion_matrix\n",
    "from time import time\n",
    "import pickle"
   ]
  },
  {
   "cell_type": "code",
   "execution_count": 2,
   "metadata": {},
   "outputs": [
    {
     "data": {
      "text/html": [
       "<div>\n",
       "<style scoped>\n",
       "    .dataframe tbody tr th:only-of-type {\n",
       "        vertical-align: middle;\n",
       "    }\n",
       "\n",
       "    .dataframe tbody tr th {\n",
       "        vertical-align: top;\n",
       "    }\n",
       "\n",
       "    .dataframe thead th {\n",
       "        text-align: right;\n",
       "    }\n",
       "</style>\n",
       "<table border=\"1\" class=\"dataframe\">\n",
       "  <thead>\n",
       "    <tr style=\"text-align: right;\">\n",
       "      <th></th>\n",
       "      <th>date-time</th>\n",
       "      <th>fridge_temperature</th>\n",
       "      <th>fridge_temp_condition</th>\n",
       "      <th>fridge_label</th>\n",
       "      <th>fridge_type</th>\n",
       "      <th>door_state</th>\n",
       "      <th>door_sphone_signal</th>\n",
       "      <th>door_label</th>\n",
       "      <th>door_type</th>\n",
       "      <th>ml_motion_status_x</th>\n",
       "      <th>...</th>\n",
       "      <th>ml_type_y</th>\n",
       "      <th>thermostat_current_temperature</th>\n",
       "      <th>thermostat_status</th>\n",
       "      <th>thermostat_label</th>\n",
       "      <th>thermostat_type</th>\n",
       "      <th>weather_temperature</th>\n",
       "      <th>weather_pressure</th>\n",
       "      <th>weather_humidity</th>\n",
       "      <th>weather_label</th>\n",
       "      <th>weather_type</th>\n",
       "    </tr>\n",
       "  </thead>\n",
       "  <tbody>\n",
       "    <tr>\n",
       "      <th>0</th>\n",
       "      <td>2019-03-31~12:36:52</td>\n",
       "      <td>13.10</td>\n",
       "      <td>0</td>\n",
       "      <td>0</td>\n",
       "      <td>2</td>\n",
       "      <td>0</td>\n",
       "      <td>False</td>\n",
       "      <td>0</td>\n",
       "      <td>2</td>\n",
       "      <td>1</td>\n",
       "      <td>...</td>\n",
       "      <td>2</td>\n",
       "      <td>25.0</td>\n",
       "      <td>0</td>\n",
       "      <td>0</td>\n",
       "      <td>2</td>\n",
       "      <td>31.788508</td>\n",
       "      <td>1.035</td>\n",
       "      <td>32.036579</td>\n",
       "      <td>0</td>\n",
       "      <td>2</td>\n",
       "    </tr>\n",
       "    <tr>\n",
       "      <th>1</th>\n",
       "      <td>2019-03-31~12:36:53</td>\n",
       "      <td>8.65</td>\n",
       "      <td>0</td>\n",
       "      <td>0</td>\n",
       "      <td>2</td>\n",
       "      <td>0</td>\n",
       "      <td>False</td>\n",
       "      <td>0</td>\n",
       "      <td>2</td>\n",
       "      <td>0</td>\n",
       "      <td>...</td>\n",
       "      <td>2</td>\n",
       "      <td>25.0</td>\n",
       "      <td>0</td>\n",
       "      <td>0</td>\n",
       "      <td>2</td>\n",
       "      <td>41.630997</td>\n",
       "      <td>1.035</td>\n",
       "      <td>30.886165</td>\n",
       "      <td>0</td>\n",
       "      <td>2</td>\n",
       "    </tr>\n",
       "    <tr>\n",
       "      <th>2</th>\n",
       "      <td>2019-03-31~12:36:54</td>\n",
       "      <td>2.00</td>\n",
       "      <td>1</td>\n",
       "      <td>0</td>\n",
       "      <td>2</td>\n",
       "      <td>0</td>\n",
       "      <td>False</td>\n",
       "      <td>0</td>\n",
       "      <td>2</td>\n",
       "      <td>0</td>\n",
       "      <td>...</td>\n",
       "      <td>2</td>\n",
       "      <td>25.0</td>\n",
       "      <td>0</td>\n",
       "      <td>0</td>\n",
       "      <td>2</td>\n",
       "      <td>42.256959</td>\n",
       "      <td>1.035</td>\n",
       "      <td>19.755908</td>\n",
       "      <td>0</td>\n",
       "      <td>2</td>\n",
       "    </tr>\n",
       "    <tr>\n",
       "      <th>3</th>\n",
       "      <td>2019-03-31~12:36:55</td>\n",
       "      <td>4.80</td>\n",
       "      <td>1</td>\n",
       "      <td>0</td>\n",
       "      <td>2</td>\n",
       "      <td>0</td>\n",
       "      <td>False</td>\n",
       "      <td>0</td>\n",
       "      <td>2</td>\n",
       "      <td>1</td>\n",
       "      <td>...</td>\n",
       "      <td>2</td>\n",
       "      <td>25.0</td>\n",
       "      <td>0</td>\n",
       "      <td>0</td>\n",
       "      <td>2</td>\n",
       "      <td>49.116581</td>\n",
       "      <td>1.035</td>\n",
       "      <td>78.949621</td>\n",
       "      <td>0</td>\n",
       "      <td>2</td>\n",
       "    </tr>\n",
       "    <tr>\n",
       "      <th>4</th>\n",
       "      <td>2019-03-31~12:36:56</td>\n",
       "      <td>10.70</td>\n",
       "      <td>0</td>\n",
       "      <td>0</td>\n",
       "      <td>2</td>\n",
       "      <td>0</td>\n",
       "      <td>False</td>\n",
       "      <td>0</td>\n",
       "      <td>2</td>\n",
       "      <td>1</td>\n",
       "      <td>...</td>\n",
       "      <td>2</td>\n",
       "      <td>25.0</td>\n",
       "      <td>0</td>\n",
       "      <td>0</td>\n",
       "      <td>2</td>\n",
       "      <td>24.017085</td>\n",
       "      <td>1.035</td>\n",
       "      <td>40.001059</td>\n",
       "      <td>0</td>\n",
       "      <td>2</td>\n",
       "    </tr>\n",
       "  </tbody>\n",
       "</table>\n",
       "<p>5 rows × 36 columns</p>\n",
       "</div>"
      ],
      "text/plain": [
       "             date-time  fridge_temperature  fridge_temp_condition  \\\n",
       "0  2019-03-31~12:36:52               13.10                      0   \n",
       "1  2019-03-31~12:36:53                8.65                      0   \n",
       "2  2019-03-31~12:36:54                2.00                      1   \n",
       "3  2019-03-31~12:36:55                4.80                      1   \n",
       "4  2019-03-31~12:36:56               10.70                      0   \n",
       "\n",
       "   fridge_label  fridge_type  door_state  door_sphone_signal  door_label  \\\n",
       "0             0            2           0               False           0   \n",
       "1             0            2           0               False           0   \n",
       "2             0            2           0               False           0   \n",
       "3             0            2           0               False           0   \n",
       "4             0            2           0               False           0   \n",
       "\n",
       "   door_type  ml_motion_status_x  ...  ml_type_y  \\\n",
       "0          2                   1  ...          2   \n",
       "1          2                   0  ...          2   \n",
       "2          2                   0  ...          2   \n",
       "3          2                   1  ...          2   \n",
       "4          2                   1  ...          2   \n",
       "\n",
       "   thermostat_current_temperature  thermostat_status  thermostat_label  \\\n",
       "0                            25.0                  0                 0   \n",
       "1                            25.0                  0                 0   \n",
       "2                            25.0                  0                 0   \n",
       "3                            25.0                  0                 0   \n",
       "4                            25.0                  0                 0   \n",
       "\n",
       "   thermostat_type  weather_temperature  weather_pressure  weather_humidity  \\\n",
       "0                2            31.788508             1.035         32.036579   \n",
       "1                2            41.630997             1.035         30.886165   \n",
       "2                2            42.256959             1.035         19.755908   \n",
       "3                2            49.116581             1.035         78.949621   \n",
       "4                2            24.017085             1.035         40.001059   \n",
       "\n",
       "   weather_label  weather_type  \n",
       "0              0             2  \n",
       "1              0             2  \n",
       "2              0             2  \n",
       "3              0             2  \n",
       "4              0             2  \n",
       "\n",
       "[5 rows x 36 columns]"
      ]
     },
     "execution_count": 2,
     "metadata": {},
     "output_type": "execute_result"
    }
   ],
   "source": [
    "IoT = pd.read_csv('../../data/merged_data.csv')\n",
    "# IoT = IoT.iloc[0:15000]\n",
    "\n",
    "IoT = IoT.dropna()\n",
    "\n",
    "encoder = LabelEncoder()\n",
    "IoT['fridge_temp_condition'] = encoder.fit_transform(IoT['fridge_temp_condition'])\n",
    "IoT['fridge_type'] = encoder.fit_transform(IoT['fridge_type'])\n",
    "IoT['door_state'] = encoder.fit_transform(IoT['door_state'])\n",
    "IoT['door_type'] = encoder.fit_transform(IoT['door_type'])\n",
    "IoT['ml_light_status_x'] = encoder.fit_transform(IoT['ml_light_status_x'])\n",
    "IoT['ml_type_x'] = encoder.fit_transform(IoT['ml_type_x'])\n",
    "IoT['gps_type'] = encoder.fit_transform(IoT['gps_type'])\n",
    "IoT['modbus_type'] = encoder.fit_transform(IoT['modbus_type'])\n",
    "IoT['ml_light_status_y'] = encoder.fit_transform(IoT['ml_light_status_y'])\n",
    "IoT['ml_type_y'] = encoder.fit_transform(IoT['ml_type_y'])\n",
    "IoT['thermostat_type'] = encoder.fit_transform(IoT['thermostat_type'])\n",
    "IoT['weather_type'] = encoder.fit_transform(IoT['weather_type'])\n",
    "\n",
    "IoT.head()"
   ]
  },
  {
   "cell_type": "code",
   "execution_count": 3,
   "metadata": {},
   "outputs": [],
   "source": [
    "x = IoT.drop(['modbus_type', 'modbus_label', 'date-time'], axis=1)\n",
    "y = IoT['modbus_type']\n",
    "\n",
    "x_train, x_test, y_train, y_test = train_test_split(x, y, test_size=0.2)"
   ]
  },
  {
   "cell_type": "code",
   "execution_count": 4,
   "metadata": {},
   "outputs": [],
   "source": [
    "model4 = LogisticRegression(max_iter=1000)"
   ]
  },
  {
   "cell_type": "code",
   "execution_count": 5,
   "metadata": {},
   "outputs": [],
   "source": [
    "filename = '../h5s/logistic-regression.h5'\n",
    "pickle.dump(model4, open(filename, 'wb'))"
   ]
  },
  {
   "cell_type": "code",
   "execution_count": 6,
   "metadata": {},
   "outputs": [
    {
     "name": "stderr",
     "output_type": "stream",
     "text": [
      "c:\\Users\\harsh\\AppData\\Local\\Programs\\Python\\Python310\\lib\\site-packages\\sklearn\\linear_model\\_logistic.py:444: ConvergenceWarning: lbfgs failed to converge (status=1):\n",
      "STOP: TOTAL NO. of ITERATIONS REACHED LIMIT.\n",
      "\n",
      "Increase the number of iterations (max_iter) or scale the data as shown in:\n",
      "    https://scikit-learn.org/stable/modules/preprocessing.html\n",
      "Please also refer to the documentation for alternative solver options:\n",
      "    https://scikit-learn.org/stable/modules/linear_model.html#logistic-regression\n",
      "  n_iter_i = _check_optimize_result(\n"
     ]
    }
   ],
   "source": [
    "start = time()\n",
    "model4.fit(x_train, y_train)\n",
    "training_time = time() - start"
   ]
  },
  {
   "cell_type": "code",
   "execution_count": 7,
   "metadata": {},
   "outputs": [
    {
     "data": {
      "text/plain": [
       "array([2, 2, 2, ..., 2, 2, 2])"
      ]
     },
     "execution_count": 7,
     "metadata": {},
     "output_type": "execute_result"
    }
   ],
   "source": [
    "start = time()\n",
    "y_pred = model4.predict(x_test)\n",
    "test_time = time() - start\n",
    "y_pred"
   ]
  },
  {
   "cell_type": "code",
   "execution_count": 8,
   "metadata": {},
   "outputs": [
    {
     "name": "stdout",
     "output_type": "stream",
     "text": [
      "Accuracy: 0.8358152686145146\n",
      "Precision: 0.8201259604925533\n",
      "Recall: 0.866015625\n",
      "F1_Score: 0.8141757583220042\n",
      "Training Time: 14.68832540512085s\n",
      "Testing Time: 0.006396055221557617s\n",
      "              precision    recall  f1-score   support\n",
      "\n",
      "           0       0.76      0.08      0.15       462\n",
      "           1       0.00      0.00      0.00       169\n",
      "           2       0.85      0.98      0.91      4454\n",
      "           3       0.29      0.19      0.23       204\n",
      "           4       0.00      0.00      0.00        16\n",
      "\n",
      "    accuracy                           0.84      5305\n",
      "   macro avg       0.38      0.25      0.26      5305\n",
      "weighted avg       0.79      0.84      0.79      5305\n",
      "\n"
     ]
    },
    {
     "name": "stderr",
     "output_type": "stream",
     "text": [
      "c:\\Users\\harsh\\AppData\\Local\\Programs\\Python\\Python310\\lib\\site-packages\\sklearn\\metrics\\_classification.py:1327: UndefinedMetricWarning: Precision and F-score are ill-defined and being set to 0.0 in labels with no predicted samples. Use `zero_division` parameter to control this behavior.\n",
      "  _warn_prf(average, modifier, msg_start, len(result))\n",
      "c:\\Users\\harsh\\AppData\\Local\\Programs\\Python\\Python310\\lib\\site-packages\\sklearn\\metrics\\_classification.py:1327: UndefinedMetricWarning: Precision and F-score are ill-defined and being set to 0.0 in labels with no predicted samples. Use `zero_division` parameter to control this behavior.\n",
      "  _warn_prf(average, modifier, msg_start, len(result))\n",
      "c:\\Users\\harsh\\AppData\\Local\\Programs\\Python\\Python310\\lib\\site-packages\\sklearn\\metrics\\_classification.py:1327: UndefinedMetricWarning: Precision and F-score are ill-defined and being set to 0.0 in labels with no predicted samples. Use `zero_division` parameter to control this behavior.\n",
      "  _warn_prf(average, modifier, msg_start, len(result))\n"
     ]
    }
   ],
   "source": [
    "# score = model4.score(x_test, y_test)\n",
    "# print('Test accuracy:', score)\n",
    "\n",
    "accuracy = accuracy_score(y_test, y_pred)\n",
    "precision = precision_score(y_test, y_pred, average='weighted', labels=np.unique(y_pred))\n",
    "recall = recall_score(y_test, y_pred, average='weighted', labels=np.unique(y_pred))\n",
    "f1 = f1_score(y_test, y_pred, average='weighted', labels=np.unique(y_pred))\n",
    "\n",
    "print('Accuracy:', accuracy)\n",
    "print('Precision:', precision)\n",
    "print('Recall:', recall)\n",
    "print('F1_Score:', f1)\n",
    "print(f'Training Time: {training_time}s')\n",
    "print(f'Testing Time: {test_time}s')\n",
    "print(classification_report(y_test, y_pred))"
   ]
  },
  {
   "cell_type": "code",
   "execution_count": 9,
   "metadata": {},
   "outputs": [
    {
     "data": {
      "text/plain": [
       "array([[  38,    0,  418,    6,    0],\n",
       "       [   0,    0,  169,    0,    0],\n",
       "       [  12,    0, 4358,   84,    0],\n",
       "       [   0,    0,  166,   38,    0],\n",
       "       [   0,    0,   11,    5,    0]], dtype=int64)"
      ]
     },
     "execution_count": 9,
     "metadata": {},
     "output_type": "execute_result"
    }
   ],
   "source": [
    "confusion_matrix(y_test, y_pred)"
   ]
  }
 ],
 "metadata": {
  "interpreter": {
   "hash": "e8899eb02dfbc033aab5733bdae1bd213fa031d40331094008e8673d99ebab63"
  },
  "kernelspec": {
   "display_name": "Python 3.10.1 64-bit",
   "language": "python",
   "name": "python3"
  },
  "language_info": {
   "codemirror_mode": {
    "name": "ipython",
    "version": 3
   },
   "file_extension": ".py",
   "mimetype": "text/x-python",
   "name": "python",
   "nbconvert_exporter": "python",
   "pygments_lexer": "ipython3",
   "version": "3.10.1"
  },
  "orig_nbformat": 4
 },
 "nbformat": 4,
 "nbformat_minor": 2
}
